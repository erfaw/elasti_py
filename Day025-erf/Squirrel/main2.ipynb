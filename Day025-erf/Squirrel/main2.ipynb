{
 "cells": [
  {
   "cell_type": "code",
   "execution_count": 3,
   "id": "ec714298",
   "metadata": {},
   "outputs": [],
   "source": [
    "import pandas\n",
    "data = pandas.read_csv(\"./004 2018-Central-Park-Squirrel-Census-Squirrel-Data.csv\")"
   ]
  },
  {
   "cell_type": "code",
   "execution_count": 16,
   "id": "8b7e1f6d",
   "metadata": {},
   "outputs": [
    {
     "name": "stdout",
     "output_type": "stream",
     "text": [
      "Primary Fur Color\n",
      "Gray        2473\n",
      "Cinnamon     392\n",
      "Black        103\n",
      "Name: count, dtype: int64\n"
     ]
    }
   ],
   "source": [
    "print (data[\"Primary Fur Color\"].value_counts())"
   ]
  },
  {
   "cell_type": "code",
   "execution_count": 28,
   "id": "bc1c95fe",
   "metadata": {},
   "outputs": [
    {
     "name": "stdout",
     "output_type": "stream",
     "text": [
      "                   count\n",
      "Primary Fur Color       \n",
      "Gray                2473\n",
      "Cinnamon             392\n",
      "Black                103\n"
     ]
    }
   ],
   "source": [
    "my_data = data[\"Primary Fur Color\"].value_counts()\n",
    "my_data_frame = pandas.DataFrame(my_data)\n",
    "print(my_data_frame)"
   ]
  },
  {
   "cell_type": "code",
   "execution_count": 29,
   "id": "1946a5d7",
   "metadata": {},
   "outputs": [
    {
     "name": "stdout",
     "output_type": "stream",
     "text": [
      "Index(['Gray', 'Cinnamon', 'Black'], dtype='object', name='Primary Fur Color')\n"
     ]
    }
   ],
   "source": [
    "print(\n",
    "    my_data_frame.index\n",
    ")"
   ]
  },
  {
   "cell_type": "code",
   "execution_count": 30,
   "id": "831d6d85",
   "metadata": {},
   "outputs": [],
   "source": [
    "my_data_frame.to_csv(\"./squirrel_unique_count_data.csv\")"
   ]
  }
 ],
 "metadata": {
  "kernelspec": {
   "display_name": "Python 3",
   "language": "python",
   "name": "python3"
  },
  "language_info": {
   "codemirror_mode": {
    "name": "ipython",
    "version": 3
   },
   "file_extension": ".py",
   "mimetype": "text/x-python",
   "name": "python",
   "nbconvert_exporter": "python",
   "pygments_lexer": "ipython3",
   "version": "3.12.4"
  }
 },
 "nbformat": 4,
 "nbformat_minor": 5
}
