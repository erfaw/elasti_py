{
 "cells": [
  {
   "cell_type": "code",
   "execution_count": 38,
   "id": "e92896ad",
   "metadata": {},
   "outputs": [],
   "source": [
    "names = ['Alex', 'Beth', 'Caroline', 'Dave', 'Eleanor', 'Freddie']\n"
   ]
  },
  {
   "cell_type": "code",
   "execution_count": 61,
   "id": "0c64cb34",
   "metadata": {},
   "outputs": [
    {
     "name": "stdout",
     "output_type": "stream",
     "text": [
      "{'Alex': 50, 'Beth': 12, 'Caroline': 79, 'Dave': 68, 'Eleanor': 63, 'Freddie': 56}\n"
     ]
    }
   ],
   "source": [
    "import random\n",
    "students_scores = {\n",
    "    name: random.randint(1,100) for name in names\n",
    "}\n",
    "print(students_scores)\n"
   ]
  },
  {
   "cell_type": "code",
   "execution_count": 62,
   "id": "55ef6611",
   "metadata": {},
   "outputs": [
    {
     "name": "stdout",
     "output_type": "stream",
     "text": [
      "{'Caroline': 79, 'Dave': 68, 'Eleanor': 63}\n",
      "{'Alex': 50, 'Beth': 12, 'Freddie': 56}\n"
     ]
    }
   ],
   "source": [
    "passed_students = {\n",
    "    key:value for (key,value) in students_scores.items() if value >= 60\n",
    "}\n",
    "failed_students = {\n",
    "    key:value for (key,value) in students_scores.items() if value < 60\n",
    "}\n",
    "print(passed_students)\n",
    "\n",
    "print(failed_students)"
   ]
  }
 ],
 "metadata": {
  "kernelspec": {
   "display_name": "Python 3",
   "language": "python",
   "name": "python3"
  },
  "language_info": {
   "codemirror_mode": {
    "name": "ipython",
    "version": 3
   },
   "file_extension": ".py",
   "mimetype": "text/x-python",
   "name": "python",
   "nbconvert_exporter": "python",
   "pygments_lexer": "ipython3",
   "version": "3.12.4"
  }
 },
 "nbformat": 4,
 "nbformat_minor": 5
}
