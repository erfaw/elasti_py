{
 "cells": [
  {
   "cell_type": "code",
   "execution_count": 1,
   "id": "b35443ae",
   "metadata": {},
   "outputs": [],
   "source": [
    "result = {}\n",
    "sentence = \"What is the Airspeed Velocity of an Unladen Swallow?\""
   ]
  },
  {
   "cell_type": "code",
   "execution_count": 7,
   "id": "ff19b61f",
   "metadata": {},
   "outputs": [
    {
     "name": "stdout",
     "output_type": "stream",
     "text": [
      "{'What': 4, 'is': 2, 'the': 3, 'Airspeed': 8, 'Velocity': 8, 'of': 2, 'an': 2, 'Unladen': 7, 'Swallow?': 8}\n"
     ]
    }
   ],
   "source": [
    "result = {word:len(word) for word in sentence.split()}\n",
    "print(result)"
   ]
  }
 ],
 "metadata": {
  "kernelspec": {
   "display_name": "Python 3",
   "language": "python",
   "name": "python3"
  },
  "language_info": {
   "codemirror_mode": {
    "name": "ipython",
    "version": 3
   },
   "file_extension": ".py",
   "mimetype": "text/x-python",
   "name": "python",
   "nbconvert_exporter": "python",
   "pygments_lexer": "ipython3",
   "version": "3.12.4"
  }
 },
 "nbformat": 4,
 "nbformat_minor": 5
}
